{
 "cells": [
  {
   "cell_type": "code",
   "execution_count": 36,
   "id": "633a3405",
   "metadata": {},
   "outputs": [
    {
     "data": {
      "text/plain": [
       "\"\\nTask #1: This dataset outlines information for a variety of loan applications. It provides loan application data about the different variables that are taken into consideration when getting approved for a loan. This includes income, dependents, marital status, loan amount, and a variety of other variables. The target variable in this scenario would be the 'Loan_Status' variable. With this data, I would like to perdict whether an applicant will be approved or denied for a loan based on their application data. \\n\""
      ]
     },
     "execution_count": 36,
     "metadata": {},
     "output_type": "execute_result"
    }
   ],
   "source": [
    "\"\"\"\n",
    "Task #1: This dataset outlines information for a variety of loan applications. It provides loan application data about the different variables that are taken into consideration when getting approved for a loan. This includes income, dependents, marital status, loan amount, and a variety of other variables. The target variable in this scenario would be the 'Loan_Status' variable. With this data, I would like to perdict whether an applicant will be approved or denied for a loan based on their application data. \n",
    "\"\"\""
   ]
  },
  {
   "cell_type": "code",
   "execution_count": 37,
   "id": "23c50862",
   "metadata": {},
   "outputs": [
    {
     "data": {
      "text/html": [
       "<div>\n",
       "<style scoped>\n",
       "    .dataframe tbody tr th:only-of-type {\n",
       "        vertical-align: middle;\n",
       "    }\n",
       "\n",
       "    .dataframe tbody tr th {\n",
       "        vertical-align: top;\n",
       "    }\n",
       "\n",
       "    .dataframe thead th {\n",
       "        text-align: right;\n",
       "    }\n",
       "</style>\n",
       "<table border=\"1\" class=\"dataframe\">\n",
       "  <thead>\n",
       "    <tr style=\"text-align: right;\">\n",
       "      <th></th>\n",
       "      <th>Loan_ID</th>\n",
       "      <th>Gender</th>\n",
       "      <th>Married</th>\n",
       "      <th>Dependents</th>\n",
       "      <th>Education</th>\n",
       "      <th>Self_Employed</th>\n",
       "      <th>ApplicantIncome</th>\n",
       "      <th>CoapplicantIncome</th>\n",
       "      <th>LoanAmount</th>\n",
       "      <th>Loan_Amount_Term</th>\n",
       "      <th>Credit_History</th>\n",
       "      <th>Property_Area</th>\n",
       "      <th>Loan_Status</th>\n",
       "    </tr>\n",
       "  </thead>\n",
       "  <tbody>\n",
       "    <tr>\n",
       "      <th>0</th>\n",
       "      <td>LP001002</td>\n",
       "      <td>Male</td>\n",
       "      <td>No</td>\n",
       "      <td>0</td>\n",
       "      <td>Graduate</td>\n",
       "      <td>No</td>\n",
       "      <td>5849</td>\n",
       "      <td>0.0</td>\n",
       "      <td>NaN</td>\n",
       "      <td>360.0</td>\n",
       "      <td>1.0</td>\n",
       "      <td>Urban</td>\n",
       "      <td>Y</td>\n",
       "    </tr>\n",
       "    <tr>\n",
       "      <th>1</th>\n",
       "      <td>LP001003</td>\n",
       "      <td>Male</td>\n",
       "      <td>Yes</td>\n",
       "      <td>1</td>\n",
       "      <td>Graduate</td>\n",
       "      <td>No</td>\n",
       "      <td>4583</td>\n",
       "      <td>1508.0</td>\n",
       "      <td>128.0</td>\n",
       "      <td>360.0</td>\n",
       "      <td>1.0</td>\n",
       "      <td>Rural</td>\n",
       "      <td>N</td>\n",
       "    </tr>\n",
       "    <tr>\n",
       "      <th>2</th>\n",
       "      <td>LP001005</td>\n",
       "      <td>Male</td>\n",
       "      <td>Yes</td>\n",
       "      <td>0</td>\n",
       "      <td>Graduate</td>\n",
       "      <td>Yes</td>\n",
       "      <td>3000</td>\n",
       "      <td>0.0</td>\n",
       "      <td>66.0</td>\n",
       "      <td>360.0</td>\n",
       "      <td>1.0</td>\n",
       "      <td>Urban</td>\n",
       "      <td>Y</td>\n",
       "    </tr>\n",
       "    <tr>\n",
       "      <th>3</th>\n",
       "      <td>LP001006</td>\n",
       "      <td>Male</td>\n",
       "      <td>Yes</td>\n",
       "      <td>0</td>\n",
       "      <td>Not Graduate</td>\n",
       "      <td>No</td>\n",
       "      <td>2583</td>\n",
       "      <td>2358.0</td>\n",
       "      <td>120.0</td>\n",
       "      <td>360.0</td>\n",
       "      <td>1.0</td>\n",
       "      <td>Urban</td>\n",
       "      <td>Y</td>\n",
       "    </tr>\n",
       "    <tr>\n",
       "      <th>4</th>\n",
       "      <td>LP001008</td>\n",
       "      <td>Male</td>\n",
       "      <td>No</td>\n",
       "      <td>0</td>\n",
       "      <td>Graduate</td>\n",
       "      <td>No</td>\n",
       "      <td>6000</td>\n",
       "      <td>0.0</td>\n",
       "      <td>141.0</td>\n",
       "      <td>360.0</td>\n",
       "      <td>1.0</td>\n",
       "      <td>Urban</td>\n",
       "      <td>Y</td>\n",
       "    </tr>\n",
       "    <tr>\n",
       "      <th>5</th>\n",
       "      <td>LP001011</td>\n",
       "      <td>Male</td>\n",
       "      <td>Yes</td>\n",
       "      <td>2</td>\n",
       "      <td>Graduate</td>\n",
       "      <td>Yes</td>\n",
       "      <td>5417</td>\n",
       "      <td>4196.0</td>\n",
       "      <td>267.0</td>\n",
       "      <td>360.0</td>\n",
       "      <td>1.0</td>\n",
       "      <td>Urban</td>\n",
       "      <td>Y</td>\n",
       "    </tr>\n",
       "    <tr>\n",
       "      <th>6</th>\n",
       "      <td>LP001013</td>\n",
       "      <td>Male</td>\n",
       "      <td>Yes</td>\n",
       "      <td>0</td>\n",
       "      <td>Not Graduate</td>\n",
       "      <td>No</td>\n",
       "      <td>2333</td>\n",
       "      <td>1516.0</td>\n",
       "      <td>95.0</td>\n",
       "      <td>360.0</td>\n",
       "      <td>1.0</td>\n",
       "      <td>Urban</td>\n",
       "      <td>Y</td>\n",
       "    </tr>\n",
       "    <tr>\n",
       "      <th>7</th>\n",
       "      <td>LP001014</td>\n",
       "      <td>Male</td>\n",
       "      <td>Yes</td>\n",
       "      <td>3+</td>\n",
       "      <td>Graduate</td>\n",
       "      <td>No</td>\n",
       "      <td>3036</td>\n",
       "      <td>2504.0</td>\n",
       "      <td>158.0</td>\n",
       "      <td>360.0</td>\n",
       "      <td>0.0</td>\n",
       "      <td>Semiurban</td>\n",
       "      <td>N</td>\n",
       "    </tr>\n",
       "    <tr>\n",
       "      <th>8</th>\n",
       "      <td>LP001018</td>\n",
       "      <td>Male</td>\n",
       "      <td>Yes</td>\n",
       "      <td>2</td>\n",
       "      <td>Graduate</td>\n",
       "      <td>No</td>\n",
       "      <td>4006</td>\n",
       "      <td>1526.0</td>\n",
       "      <td>168.0</td>\n",
       "      <td>360.0</td>\n",
       "      <td>1.0</td>\n",
       "      <td>Urban</td>\n",
       "      <td>Y</td>\n",
       "    </tr>\n",
       "    <tr>\n",
       "      <th>9</th>\n",
       "      <td>LP001020</td>\n",
       "      <td>Male</td>\n",
       "      <td>Yes</td>\n",
       "      <td>1</td>\n",
       "      <td>Graduate</td>\n",
       "      <td>No</td>\n",
       "      <td>12841</td>\n",
       "      <td>10968.0</td>\n",
       "      <td>349.0</td>\n",
       "      <td>360.0</td>\n",
       "      <td>1.0</td>\n",
       "      <td>Semiurban</td>\n",
       "      <td>N</td>\n",
       "    </tr>\n",
       "  </tbody>\n",
       "</table>\n",
       "</div>"
      ],
      "text/plain": [
       "    Loan_ID Gender Married Dependents     Education Self_Employed  \\\n",
       "0  LP001002   Male      No          0      Graduate            No   \n",
       "1  LP001003   Male     Yes          1      Graduate            No   \n",
       "2  LP001005   Male     Yes          0      Graduate           Yes   \n",
       "3  LP001006   Male     Yes          0  Not Graduate            No   \n",
       "4  LP001008   Male      No          0      Graduate            No   \n",
       "5  LP001011   Male     Yes          2      Graduate           Yes   \n",
       "6  LP001013   Male     Yes          0  Not Graduate            No   \n",
       "7  LP001014   Male     Yes         3+      Graduate            No   \n",
       "8  LP001018   Male     Yes          2      Graduate            No   \n",
       "9  LP001020   Male     Yes          1      Graduate            No   \n",
       "\n",
       "   ApplicantIncome  CoapplicantIncome  LoanAmount  Loan_Amount_Term  \\\n",
       "0             5849                0.0         NaN             360.0   \n",
       "1             4583             1508.0       128.0             360.0   \n",
       "2             3000                0.0        66.0             360.0   \n",
       "3             2583             2358.0       120.0             360.0   \n",
       "4             6000                0.0       141.0             360.0   \n",
       "5             5417             4196.0       267.0             360.0   \n",
       "6             2333             1516.0        95.0             360.0   \n",
       "7             3036             2504.0       158.0             360.0   \n",
       "8             4006             1526.0       168.0             360.0   \n",
       "9            12841            10968.0       349.0             360.0   \n",
       "\n",
       "   Credit_History Property_Area Loan_Status  \n",
       "0             1.0         Urban           Y  \n",
       "1             1.0         Rural           N  \n",
       "2             1.0         Urban           Y  \n",
       "3             1.0         Urban           Y  \n",
       "4             1.0         Urban           Y  \n",
       "5             1.0         Urban           Y  \n",
       "6             1.0         Urban           Y  \n",
       "7             0.0     Semiurban           N  \n",
       "8             1.0         Urban           Y  \n",
       "9             1.0     Semiurban           N  "
      ]
     },
     "execution_count": 37,
     "metadata": {},
     "output_type": "execute_result"
    }
   ],
   "source": [
    "\"\"\"\n",
    "Task #2:\n",
    "Drop unwanted features.\n",
    "Address missing values.\n",
    "Remove Duplicates. \n",
    "Check if there are any inconsistent inputs for categorical variables. \n",
    "Transform categorical variables into numeric. \n",
    "Use boxplots or histogram to identify outliers for numeric variables and remove them.\n",
    "\"\"\"\n",
    "import pandas as pd\n",
    "from matplotlib import pyplot as plt\n",
    "import seaborn as sns\n",
    "\n",
    "loan_df = pd.read_csv(\"LoanApprovalPrediction.csv\")\n",
    "loan_df.head(10)"
   ]
  },
  {
   "cell_type": "code",
   "execution_count": 38,
   "id": "b35bfdaa",
   "metadata": {},
   "outputs": [],
   "source": [
    "# Combine income columns into one column\n",
    "loan_df['TotalApplicantIncome'] = loan_df['ApplicantIncome'] + loan_df['CoapplicantIncome']"
   ]
  },
  {
   "cell_type": "code",
   "execution_count": 39,
   "id": "8b94413b",
   "metadata": {},
   "outputs": [
    {
     "name": "stdout",
     "output_type": "stream",
     "text": [
      "(614, 14)\n",
      "(614, 10)\n"
     ]
    },
    {
     "data": {
      "text/plain": [
       "\"\\nI dropped the 'ApplicantIncome' and 'CoapplicantIncome' columns because they have been combined into a single column 'TotalApplicantIncome'. 'Loan_Amount_Term' was dropped because all of the applications have the same loan term.\\n\""
      ]
     },
     "execution_count": 39,
     "metadata": {},
     "output_type": "execute_result"
    }
   ],
   "source": [
    "# Drop unwanted features\n",
    "print(loan_df.shape)\n",
    "loan_df = loan_df.drop(['ApplicantIncome', 'CoapplicantIncome', 'Loan_ID', 'Loan_Amount_Term'], axis=1)\n",
    "print(loan_df.shape)\n",
    "\n",
    "\"\"\"\n",
    "I dropped the 'ApplicantIncome' and 'CoapplicantIncome' columns because they have been combined into a single column 'TotalApplicantIncome'. 'Loan_Amount_Term' was dropped because all of the applications have the same loan term.\n",
    "\"\"\""
   ]
  },
  {
   "cell_type": "code",
   "execution_count": 40,
   "id": "e898765d",
   "metadata": {},
   "outputs": [],
   "source": [
    "# Replace the rows that have null values with 0.\n",
    "loan_df = loan_df.fillna(0)"
   ]
  },
  {
   "cell_type": "code",
   "execution_count": 41,
   "id": "cd7a6de5",
   "metadata": {},
   "outputs": [],
   "source": [
    "# Transform categorical variables into numeric values\n",
    "loan_df['Gender'].replace(['Female', 'Male'], [0, 1], inplace=True)\n",
    "loan_df['Married'].replace(['No', 'Yes'], [0, 1], inplace=True)\n",
    "loan_df['Dependents'].replace(['3+'], [3], inplace=True)\n",
    "loan_df['Education'].replace(['Not Graduate', 'Graduate'], [0, 1], inplace=True)\n",
    "loan_df['Self_Employed'].replace(['No', 'Yes'], [0, 1], inplace=True)\n",
    "loan_df['Property_Area'].replace(['Urban', 'Semiurban', 'Rural'], [0, 1, 2], inplace=True)\n",
    "loan_df['Loan_Status'].replace(['N', 'Y'], [0, 1], inplace=True)"
   ]
  },
  {
   "cell_type": "code",
   "execution_count": 42,
   "id": "8bfb7807",
   "metadata": {},
   "outputs": [
    {
     "name": "stdout",
     "output_type": "stream",
     "text": [
      "Gender                    int64\n",
      "Married                   int64\n",
      "Dependents               object\n",
      "Education                 int64\n",
      "Self_Employed             int64\n",
      "LoanAmount              float64\n",
      "Credit_History          float64\n",
      "Property_Area             int64\n",
      "Loan_Status               int64\n",
      "TotalApplicantIncome    float64\n",
      "dtype: object\n"
     ]
    }
   ],
   "source": [
    "# Check data types\n",
    "print(loan_df.dtypes)\n",
    "\n",
    "# The data type of 'Dependents' is currently an object. It should be an integer.\n",
    "loan_df['Dependents'].value_counts()\n",
    "loan_df['Dependents'] = loan_df['Dependents'].astype('int')"
   ]
  },
  {
   "cell_type": "code",
   "execution_count": 43,
   "id": "c523f434",
   "metadata": {},
   "outputs": [
    {
     "data": {
      "image/png": "[encoded data removed]",
      "text/plain": [
       "<Figure size 720x720 with 2 Axes>"
      ]
     },
     "metadata": {
      "needs_background": "light"
     },
     "output_type": "display_data"
    }
   ],
   "source": [
    "# Get all numerical columns and creates figure\n",
    "column_list = ['LoanAmount', 'TotalApplicantIncome']\n",
    "fig = plt.figure(figsize = (10, 10))\n",
    "\n",
    "# Build the subplots and structure output\n",
    "for i in range(len(column_list)):\n",
    "    column = column_list[i]\n",
    "    sub = fig.add_subplot(2, 2, i + 1)\n",
    "    loan_df.boxplot(column = [column])\n",
    "    \n",
    "fig.tight_layout() \n",
    "fig.set_figheight(10)\n",
    "fig.set_figwidth(10)\n",
    "\n",
    "plt.show()"
   ]
  },
  {
   "cell_type": "code",
   "execution_count": 44,
   "id": "3d8f1ff5",
   "metadata": {},
   "outputs": [
    {
     "data": {
      "image/png": "[encoded data removed]",
      "text/plain": [
       "<Figure size 720x720 with 2 Axes>"
      ]
     },
     "metadata": {
      "needs_background": "light"
     },
     "output_type": "display_data"
    },
    {
     "name": "stdout",
     "output_type": "stream",
     "text": [
      "(443, 10)\n"
     ]
    },
    {
     "data": {
      "text/plain": [
       "'\\nRemoved all of the outlier values outside of the upper and lower boxplot whiskers for each numerical feauture.\\n'"
      ]
     },
     "execution_count": 44,
     "metadata": {},
     "output_type": "execute_result"
    }
   ],
   "source": [
    "# Remove outliers\n",
    "loan_df = loan_df[loan_df['LoanAmount'] <= 190]\n",
    "loan_df = loan_df[loan_df['LoanAmount'] >= 40]\n",
    "\n",
    "loan_df = loan_df[loan_df['TotalApplicantIncome'] <= 8700]\n",
    "\n",
    "# Build the subplots and structure output\n",
    "column_list = ['LoanAmount', 'TotalApplicantIncome']\n",
    "fig = plt.figure(figsize=(10, 10))\n",
    "\n",
    "for i in range(len(column_list)):\n",
    "    column = column_list[i]\n",
    "    sub = fig.add_subplot(2, 2, i + 1)\n",
    "    loan_df.boxplot(column = [column])\n",
    "    \n",
    "fig.tight_layout() \n",
    "fig.set_figheight(10)\n",
    "fig.set_figwidth(10)\n",
    "\n",
    "plt.show()\n",
    "\n",
    "print(loan_df.shape)\n",
    "\n",
    "\"\"\"\n",
    "Removed all of the outlier values outside of the upper and lower boxplot whiskers for each numerical feauture.\n",
    "\"\"\""
   ]
  },
  {
   "cell_type": "code",
   "execution_count": 45,
   "id": "70a4bc8a",
   "metadata": {},
   "outputs": [
    {
     "data": {
      "image/png": "[encoded data removed]",
      "text/plain": [
       "<Figure size 1080x1080 with 2 Axes>"
      ]
     },
     "metadata": {
      "needs_background": "light"
     },
     "output_type": "display_data"
    },
    {
     "data": {
      "text/plain": [
       "\"\\nBoth 'LoanAmount' and 'TotalApplicantIncome' only show a slight variance between those approved and those not approved for a loan.\\n\""
      ]
     },
     "execution_count": 45,
     "metadata": {},
     "output_type": "execute_result"
    }
   ],
   "source": [
    "\"\"\"\n",
    "Task #3:\n",
    "Use graphs, ANOVA test, Chi-squared test to reduce the dimension. \n",
    "Any variables with zero to little variance?  \n",
    "Any features Irrelevant to the target variable? \n",
    "Any high-correlated Features?  \n",
    "Does this algorithm require normalized data or standardized data?\n",
    "\"\"\"\n",
    "from sklearn.feature_selection import SelectKBest, f_classif, chi2\n",
    "import numpy as np\n",
    "\n",
    "# Generate boxplots for all the numerical features vs. the target variable.\n",
    "column_list = ['LoanAmount', 'TotalApplicantIncome']\n",
    "fig = plt.figure(figsize=(10, 8))\n",
    "\n",
    "for i in range(len(column_list)):\n",
    "    column = column_list[i]\n",
    "    sub = fig.add_subplot(2, 2, i+1)\n",
    "    sns.boxplot(x = 'Loan_Status', y = column, data = loan_df)\n",
    "    \n",
    "fig.tight_layout() \n",
    "fig.set_figheight(15)\n",
    "fig.set_figwidth(15)\n",
    "\n",
    "plt.show()\n",
    "\n",
    "\"\"\"\n",
    "Both 'LoanAmount' and 'TotalApplicantIncome' only show a slight variance between those approved and those not approved for a loan.\n",
    "\"\"\""
   ]
  },
  {
   "cell_type": "code",
   "execution_count": 46,
   "id": "cfdb0ce5",
   "metadata": {},
   "outputs": [
    {
     "name": "stdout",
     "output_type": "stream",
     "text": [
      "F Scores: [0.26128572 0.65616307]\n",
      "P-Values: [0.60949403 0.41835468]\n",
      "(443, 10)\n",
      "(443, 8)\n"
     ]
    }
   ],
   "source": [
    "# Sets the x and y variables \n",
    "x = loan_df.loc[:, ['LoanAmount', 'TotalApplicantIncome']]\n",
    "y = loan_df.loc[:, 'Loan_Status']\n",
    "\n",
    "# Calculates k-best\n",
    "fs = SelectKBest(score_func = f_classif, k = 'all')\n",
    "\n",
    "# Trains the model\n",
    "bestFeatures = fs.fit(x, y) \n",
    "np.set_printoptions(suppress = True)\n",
    "\n",
    "# Prints out the scores for numerical features \n",
    "print('F Scores: ' + str(bestFeatures.scores_))\n",
    "print('P-Values: ' + str(bestFeatures.pvalues_))\n",
    "\n",
    "# Drop variables where p-value is higher than 0.05\n",
    "print(loan_df.shape)\n",
    "loan_df = loan_df.drop(['LoanAmount', 'TotalApplicantIncome'], axis=1)\n",
    "print(loan_df.shape)"
   ]
  },
  {
   "cell_type": "code",
   "execution_count": 47,
   "id": "fb245730",
   "metadata": {},
   "outputs": [
    {
     "data": {
      "text/plain": [
       "'\\nCredit history is the only feature that seems to show a significant difference between the number of people who were approved for a loan and those who were not between its two categories. All of the other features seem to have a common probability of getting approved between their categories. \\n'"
      ]
     },
     "execution_count": 47,
     "metadata": {},
     "output_type": "execute_result"
    },
    {
     "data": {
      "text/plain": [
       "<Figure size 720x576 with 0 Axes>"
      ]
     },
     "metadata": {},
     "output_type": "display_data"
    },
    {
     "data": {
      "image/png": "[encoded data removed]",
      "text/plain": [
       "<Figure size 720x720 with 7 Axes>"
      ]
     },
     "metadata": {
      "needs_background": "light"
     },
     "output_type": "display_data"
    }
   ],
   "source": [
    "# Gets all categorical columns and creates figure\n",
    "cat_list = ['Gender','Married', 'Dependents', 'Education', 'Self_Employed', 'Property_Area', 'Credit_History']\n",
    "fig = plt.figure(figsize = (10, 8))\n",
    "\n",
    "# Builds the subplots and structure output\n",
    "fig = plt.figure(figsize = (16,8))\n",
    "for i in range(len(cat_list)):\n",
    "    column = cat_list[i]\n",
    "    sub = fig.add_subplot(3, 3, i + 1)\n",
    "    chart = sns.countplot(x = column, hue = 'Loan_Status', data = loan_df)\n",
    "    \n",
    "fig.tight_layout() \n",
    "fig.set_figheight(10)\n",
    "fig.set_figwidth(10)\n",
    "\n",
    "\"\"\"\n",
    "Credit history is the only feature that seems to show a significant difference between the number of people who were approved for a loan and those who were not between its two categories. All of the other features seem to have a common probability of getting approved between their categories. \n",
    "\"\"\""
   ]
  },
  {
   "cell_type": "code",
   "execution_count": 48,
   "id": "c2cc4434",
   "metadata": {},
   "outputs": [
    {
     "name": "stdout",
     "output_type": "stream",
     "text": [
      "F Scores: [ 0.39419681  0.49404308  0.0652108   0.77864367  0.00075813  1.51398901\n",
      " 19.44598609]\n",
      "P-Values: [0.53010159 0.4821293  0.79844193 0.37755627 0.97803363 0.21853141\n",
      " 0.00001035]\n",
      "(443, 8)\n",
      "(443, 2)\n"
     ]
    }
   ],
   "source": [
    "# Gets x and y variables \n",
    "x = loan_df.loc[:, ['Gender', 'Married', 'Dependents', 'Education', 'Self_Employed', 'Property_Area', 'Credit_History']]\n",
    "y = loan_df.loc[:, 'Loan_Status']\n",
    "\n",
    "# Chi-squared test\n",
    "chi = SelectKBest(score_func = chi2, k = 'all')\n",
    "catFeatures = chi.fit(x, y)\n",
    "\n",
    "# Prints out the scores for categorical features \n",
    "print('F Scores: ' + str(catFeatures.scores_))\n",
    "print('P-Values: ' + str(catFeatures.pvalues_))\n",
    "\n",
    "# Drop variables where p-value is higher than 0.05\n",
    "print(loan_df.shape)\n",
    "loan_df = loan_df.drop(['Gender', 'Married', 'Dependents', 'Education', 'Self_Employed', 'Property_Area'], axis=1)\n",
    "print(loan_df.shape)"
   ]
  },
  {
   "cell_type": "code",
   "execution_count": 49,
   "id": "00eb7f41",
   "metadata": {},
   "outputs": [
    {
     "data": {
      "text/plain": [
       "'\\nI am using train_test_split to validate the result. \\n'"
      ]
     },
     "execution_count": 49,
     "metadata": {},
     "output_type": "execute_result"
    }
   ],
   "source": [
    "\"\"\"\n",
    "Task #4: Build the prediction model.\n",
    "\"\"\"\n",
    "from sklearn.model_selection import train_test_split\n",
    "from sklearn.linear_model import LogisticRegression\n",
    "from imblearn.over_sampling import SMOTE\n",
    "\n",
    "# Splits the data \n",
    "x = loan_df.loc[:, loan_df.columns!='Loan_Status']\n",
    "y = loan_df['Loan_Status']\n",
    "\n",
    "x_train, x_test, y_train, y_test = train_test_split(x, y, test_size = 0.2, random_state = 0, stratify = y)   \n",
    "\n",
    "\"\"\"\n",
    "I am using train_test_split to validate the result. \n",
    "\"\"\""
   ]
  },
  {
   "cell_type": "code",
   "execution_count": 50,
   "id": "5b59f0d9",
   "metadata": {},
   "outputs": [
    {
     "name": "stdout",
     "output_type": "stream",
     "text": [
      "1.0    338\n",
      "0.0    105\n",
      "Name: Credit_History, dtype: int64\n",
      "1    309\n",
      "0    134\n",
      "Name: Loan_Status, dtype: int64\n"
     ]
    },
    {
     "data": {
      "text/plain": [
       "'\\nThe dataset is not balanced. The features have a significantly higher count for certain values than others. This means I need to balance the data. \\n'"
      ]
     },
     "execution_count": 50,
     "metadata": {},
     "output_type": "execute_result"
    }
   ],
   "source": [
    "# Checks if the dataset is balanced\n",
    "for column in loan_df:\n",
    "     print(loan_df[column].value_counts())\n",
    "\n",
    "\"\"\"\n",
    "The dataset is not balanced. The features have a significantly higher count for certain values than others. This means I need to balance the data. \n",
    "\"\"\""
   ]
  },
  {
   "cell_type": "code",
   "execution_count": 51,
   "id": "c2197cdf",
   "metadata": {},
   "outputs": [
    {
     "name": "stdout",
     "output_type": "stream",
     "text": [
      "(354, 1)\n",
      "(494, 1)\n"
     ]
    }
   ],
   "source": [
    "# Balances the data set\n",
    "os = SMOTE(random_state = 0)\n",
    "oversampled_x, oversampled_y = os.fit_sample(x_train, y_train)\n",
    "\n",
    "# Prints shape following balance \n",
    "print(x_train.shape)\n",
    "print(oversampled_x.shape)"
   ]
  },
  {
   "cell_type": "code",
   "execution_count": 52,
   "id": "63ffed88",
   "metadata": {},
   "outputs": [
    {
     "name": "stdout",
     "output_type": "stream",
     "text": [
      "0.7752808988764045\n"
     ]
    },
    {
     "data": {
      "text/plain": [
       "'\\nI am using the logistic regression model for this problem. This is the appropriate algorithm as it helps topredict the probability of an event occuring.\\n'"
      ]
     },
     "execution_count": 52,
     "metadata": {},
     "output_type": "execute_result"
    }
   ],
   "source": [
    "from sklearn.metrics import log_loss, roc_auc_score, recall_score, precision_score, average_precision_score, f1_score, classification_report, accuracy_score, plot_roc_curve, plot_precision_recall_curve, plot_confusion_matrix\n",
    "\n",
    "# Build the logistic regression prediction model\n",
    "LogRegression = LogisticRegression(penalty='none', max_iter=2000)\n",
    "LogRegression.fit(oversampled_x, oversampled_y.values.ravel())\n",
    "\n",
    "# Evaluates the model and gets accuracy score \n",
    "test_pred = LogRegression.predict(x_test)\n",
    "print(accuracy_score(y_test, test_pred))\n",
    "\n",
    "\"\"\"\n",
    "I am using the logistic regression model for this problem. This is the appropriate algorithm as it helps topredict the probability of an event occuring.\n",
    "\"\"\""
   ]
  },
  {
   "cell_type": "code",
   "execution_count": 53,
   "id": "1fe41a0f",
   "metadata": {},
   "outputs": [
    {
     "data": {
      "text/plain": [
       "<sklearn.metrics._plot.confusion_matrix.ConfusionMatrixDisplay at 0x1dbce7aab50>"
      ]
     },
     "execution_count": 53,
     "metadata": {},
     "output_type": "execute_result"
    },
    {
     "data": {
      "image/png": "[encoded data removed]",
      "text/plain": [
       "<Figure size 432x288 with 2 Axes>"
      ]
     },
     "metadata": {
      "needs_background": "light"
     },
     "output_type": "display_data"
    }
   ],
   "source": [
    "from sklearn.metrics import ConfusionMatrixDisplay\n",
    "\n",
    "# Gets confusin matrix to check performance of model\n",
    "ConfusionMatrixDisplay.from_estimator(LogRegression, x_test, y_test)"
   ]
  }
 ],
 "metadata": {
  "kernelspec": {
   "display_name": "Python 3 (ipykernel)",
   "language": "python",
   "name": "python3"
  },
  "language_info": {
   "codemirror_mode": {
    "name": "ipython",
    "version": 3
   },
   "file_extension": ".py",
   "mimetype": "text/x-python",
   "name": "python",
   "nbconvert_exporter": "python",
   "pygments_lexer": "ipython3",
   "version": "3.9.12"
  }
 },
 "nbformat": 4,
 "nbformat_minor": 5
}
